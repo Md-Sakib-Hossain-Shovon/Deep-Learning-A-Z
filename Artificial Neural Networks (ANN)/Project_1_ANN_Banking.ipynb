{
 "cells": [
  {
   "cell_type": "markdown",
   "id": "fdbc3092",
   "metadata": {},
   "source": [
    "# Artificial Neural Network"
   ]
  },
  {
   "cell_type": "markdown",
   "id": "b2f01497",
   "metadata": {},
   "source": [
    "### Importing the libraries"
   ]
  },
  {
   "cell_type": "code",
   "execution_count": 1,
   "id": "8b455c8e",
   "metadata": {},
   "outputs": [],
   "source": [
    "import numpy as np\n",
    "import pandas as pd\n",
    "import tensorflow as tf"
   ]
  },
  {
   "cell_type": "code",
   "execution_count": 2,
   "id": "847b4928",
   "metadata": {},
   "outputs": [
    {
     "data": {
      "text/plain": [
       "'2.7.0'"
      ]
     },
     "execution_count": 2,
     "metadata": {},
     "output_type": "execute_result"
    }
   ],
   "source": [
    "tf.__version__"
   ]
  },
  {
   "cell_type": "markdown",
   "id": "261816e5",
   "metadata": {},
   "source": [
    "## Part 1 - Data Preprocessing"
   ]
  },
  {
   "cell_type": "markdown",
   "id": "895f854b",
   "metadata": {},
   "source": [
    "### Importing the dataset"
   ]
  },
  {
   "cell_type": "code",
   "execution_count": 4,
   "id": "efa2ca75",
   "metadata": {},
   "outputs": [],
   "source": [
    "dataset = pd.read_csv('Project_1_ANN_Banking.csv')\n",
    "X = dataset.iloc[:, 3:-1].values #Printing starting from index 3(CreditScore) to EstimatedSalary excluding -1(Exited)--->Train Attributes \n",
    "y = dataset.iloc[:, -1].values #Printing only last column Exited--->Target Attribute"
   ]
  },
  {
   "cell_type": "code",
   "execution_count": 5,
   "id": "485807d4",
   "metadata": {},
   "outputs": [
    {
     "name": "stdout",
     "output_type": "stream",
     "text": [
      "[[619 'France' 'Female' ... 1 1 101348.88]\n",
      " [608 'Spain' 'Female' ... 0 1 112542.58]\n",
      " [502 'France' 'Female' ... 1 0 113931.57]\n",
      " ...\n",
      " [709 'France' 'Female' ... 0 1 42085.58]\n",
      " [772 'Germany' 'Male' ... 1 0 92888.52]\n",
      " [792 'France' 'Female' ... 1 0 38190.78]]\n"
     ]
    }
   ],
   "source": [
    "print(X)"
   ]
  },
  {
   "cell_type": "code",
   "execution_count": 6,
   "id": "3d704100",
   "metadata": {},
   "outputs": [
    {
     "name": "stdout",
     "output_type": "stream",
     "text": [
      "[[619 'France' 'Female' ... 1 1 101348.88]\n",
      " [608 'Spain' 'Female' ... 0 1 112542.58]\n",
      " [502 'France' 'Female' ... 1 0 113931.57]\n",
      " ...\n",
      " [709 'France' 'Female' ... 0 1 42085.58]\n",
      " [772 'Germany' 'Male' ... 1 0 92888.52]\n",
      " [792 'France' 'Female' ... 1 0 38190.78]]\n"
     ]
    }
   ],
   "source": [
    "print(X)"
   ]
  },
  {
   "cell_type": "markdown",
   "id": "a7ef88ad",
   "metadata": {},
   "source": [
    "### Encoding categorical data"
   ]
  },
  {
   "cell_type": "code",
   "execution_count": 9,
   "id": "a6f6e254",
   "metadata": {},
   "outputs": [],
   "source": [
    "Label Encoding the \"Gender\" column"
   ]
  },
  {
   "cell_type": "code",
   "execution_count": 10,
   "id": "ba7a877f",
   "metadata": {},
   "outputs": [],
   "source": [
    "from sklearn.preprocessing import LabelEncoder\n",
    "le = LabelEncoder()\n",
    "X[:, 2] = le.fit_transform(X[:, 2]) #Encoding index 2 column only(Gender)"
   ]
  },
  {
   "cell_type": "code",
   "execution_count": 11,
   "id": "96f8bc3d",
   "metadata": {},
   "outputs": [
    {
     "name": "stdout",
     "output_type": "stream",
     "text": [
      "[[619 'France' 0 ... 1 1 101348.88]\n",
      " [608 'Spain' 0 ... 0 1 112542.58]\n",
      " [502 'France' 0 ... 1 0 113931.57]\n",
      " ...\n",
      " [709 'France' 0 ... 0 1 42085.58]\n",
      " [772 'Germany' 1 ... 1 0 92888.52]\n",
      " [792 'France' 0 ... 1 0 38190.78]]\n"
     ]
    }
   ],
   "source": [
    "print(X)"
   ]
  },
  {
   "cell_type": "markdown",
   "id": "d91336a3",
   "metadata": {},
   "source": [
    "One Hot Encoding the \"Geography\" column"
   ]
  },
  {
   "cell_type": "code",
   "execution_count": 13,
   "id": "53d90834",
   "metadata": {},
   "outputs": [],
   "source": [
    "from sklearn.compose import ColumnTransformer\n",
    "from sklearn.preprocessing import OneHotEncoder\n",
    "ct = ColumnTransformer(transformers=[('encoder', OneHotEncoder(), [1])], remainder='passthrough') #[1]--->Column index 1\n",
    "X = np.array(ct.fit_transform(X))"
   ]
  },
  {
   "cell_type": "code",
   "execution_count": 14,
   "id": "c382a23c",
   "metadata": {},
   "outputs": [
    {
     "name": "stdout",
     "output_type": "stream",
     "text": [
      "[[1.0 0.0 0.0 ... 1 1 101348.88]\n",
      " [0.0 0.0 1.0 ... 0 1 112542.58]\n",
      " [1.0 0.0 0.0 ... 1 0 113931.57]\n",
      " ...\n",
      " [1.0 0.0 0.0 ... 0 1 42085.58]\n",
      " [0.0 1.0 0.0 ... 1 0 92888.52]\n",
      " [1.0 0.0 0.0 ... 1 0 38190.78]]\n"
     ]
    }
   ],
   "source": [
    "print(X)"
   ]
  },
  {
   "cell_type": "markdown",
   "id": "3aacd1d0",
   "metadata": {},
   "source": [
    "### Splitting the dataset into the Training set and Test set\n"
   ]
  },
  {
   "cell_type": "code",
   "execution_count": 15,
   "id": "3f453362",
   "metadata": {},
   "outputs": [],
   "source": [
    "from sklearn.model_selection import train_test_split\n",
    "X_train, X_test, y_train, y_test = train_test_split(X, y, test_size = 0.2, random_state = 0) #0.2--->20% data from train data set will be tested"
   ]
  },
  {
   "cell_type": "markdown",
   "id": "a5d53637",
   "metadata": {},
   "source": [
    "### Feature Scaling"
   ]
  },
  {
   "cell_type": "code",
   "execution_count": 16,
   "id": "ff66df16",
   "metadata": {},
   "outputs": [],
   "source": [
    "from sklearn.preprocessing import StandardScaler\n",
    "sc = StandardScaler()\n",
    "X_train = sc.fit_transform(X_train)\n",
    "X_test = sc.transform(X_test)\n",
    "#Scaling everything"
   ]
  },
  {
   "cell_type": "markdown",
   "id": "6ff782ef",
   "metadata": {},
   "source": [
    "## Part 2 - Building the ANN"
   ]
  },
  {
   "cell_type": "markdown",
   "id": "8e39f01b",
   "metadata": {},
   "source": [
    "### Initializing the ANN"
   ]
  },
  {
   "cell_type": "code",
   "execution_count": 17,
   "id": "feb47720",
   "metadata": {},
   "outputs": [],
   "source": [
    "ann = tf.keras.models.Sequential() #Initializing ANN as a sequence of layers"
   ]
  },
  {
   "cell_type": "markdown",
   "id": "e7511133",
   "metadata": {},
   "source": [
    "### Adding the input layer and the first hidden layer"
   ]
  },
  {
   "cell_type": "code",
   "execution_count": 18,
   "id": "b14934eb",
   "metadata": {},
   "outputs": [],
   "source": [
    "ann.add(tf.keras.layers.Dense(units=6, activation='relu')) #Automatically add input neorons,assuming 6 neurons in first hidden layer"
   ]
  },
  {
   "cell_type": "markdown",
   "id": "6cbbe9de",
   "metadata": {},
   "source": [
    "### Adding the second hidden layer"
   ]
  },
  {
   "cell_type": "code",
   "execution_count": 19,
   "id": "cb390c7f",
   "metadata": {},
   "outputs": [],
   "source": [
    "ann.add(tf.keras.layers.Dense(units=6, activation='relu'))"
   ]
  },
  {
   "cell_type": "markdown",
   "id": "07948539",
   "metadata": {},
   "source": [
    "### Adding the output layer"
   ]
  },
  {
   "cell_type": "code",
   "execution_count": 21,
   "id": "418ff46d",
   "metadata": {},
   "outputs": [],
   "source": [
    "ann.add(tf.keras.layers.Dense(units=1, activation='sigmoid')) #For probability of binary outcome & prediction sigmoid preferable,Output layer 1"
   ]
  },
  {
   "cell_type": "markdown",
   "id": "6da306b7",
   "metadata": {},
   "source": [
    "## Part 3 - Training the ANN"
   ]
  },
  {
   "cell_type": "markdown",
   "id": "1a05be0b",
   "metadata": {},
   "source": [
    "### Compiling the ANN"
   ]
  },
  {
   "cell_type": "code",
   "execution_count": 22,
   "id": "25913838",
   "metadata": {},
   "outputs": [],
   "source": [
    "ann.compile(optimizer = 'adam', loss = 'binary_crossentropy', metrics = ['accuracy'])\n",
    "#adam--->updating weights to reduce loss through iteration\n",
    "#loss--->compute difference between prediction & real result\n",
    "#binary_crossentrophy--->Always be for binary classification & for non-binary it will be catagorical_crossentrophy"
   ]
  },
  {
   "cell_type": "markdown",
   "id": "44df0e91",
   "metadata": {},
   "source": [
    "### Training the ANN on the Training set"
   ]
  },
  {
   "cell_type": "code",
   "execution_count": 23,
   "id": "d9eb6283",
   "metadata": {},
   "outputs": [
    {
     "name": "stdout",
     "output_type": "stream",
     "text": [
      "Epoch 1/100\n",
      "250/250 [==============================] - 4s 7ms/step - loss: 0.6375 - accuracy: 0.6315\n",
      "Epoch 2/100\n",
      "250/250 [==============================] - 2s 6ms/step - loss: 0.4646 - accuracy: 0.7959\n",
      "Epoch 3/100\n",
      "250/250 [==============================] - 2s 7ms/step - loss: 0.4301 - accuracy: 0.8083\n",
      "Epoch 4/100\n",
      "250/250 [==============================] - 2s 6ms/step - loss: 0.4148 - accuracy: 0.8161\n",
      "Epoch 5/100\n",
      "250/250 [==============================] - 2s 6ms/step - loss: 0.4001 - accuracy: 0.8248\n",
      "Epoch 6/100\n",
      "250/250 [==============================] - 2s 7ms/step - loss: 0.3846 - accuracy: 0.8351\n",
      "Epoch 7/100\n",
      "250/250 [==============================] - 2s 7ms/step - loss: 0.3722 - accuracy: 0.8426\n",
      "Epoch 8/100\n",
      "250/250 [==============================] - 2s 7ms/step - loss: 0.3649 - accuracy: 0.8454\n",
      "Epoch 9/100\n",
      "250/250 [==============================] - 2s 7ms/step - loss: 0.3615 - accuracy: 0.8468\n",
      "Epoch 10/100\n",
      "250/250 [==============================] - 2s 7ms/step - loss: 0.3599 - accuracy: 0.8482\n",
      "Epoch 11/100\n",
      "250/250 [==============================] - 2s 7ms/step - loss: 0.3582 - accuracy: 0.8489\n",
      "Epoch 12/100\n",
      "250/250 [==============================] - 2s 7ms/step - loss: 0.3576 - accuracy: 0.8474\n",
      "Epoch 13/100\n",
      "250/250 [==============================] - 2s 7ms/step - loss: 0.3565 - accuracy: 0.8495\n",
      "Epoch 14/100\n",
      "250/250 [==============================] - 2s 6ms/step - loss: 0.3555 - accuracy: 0.8503\n",
      "Epoch 15/100\n",
      "250/250 [==============================] - 2s 6ms/step - loss: 0.3556 - accuracy: 0.8511\n",
      "Epoch 16/100\n",
      "250/250 [==============================] - 2s 6ms/step - loss: 0.3545 - accuracy: 0.8503\n",
      "Epoch 17/100\n",
      "250/250 [==============================] - 2s 6ms/step - loss: 0.3534 - accuracy: 0.8514\n",
      "Epoch 18/100\n",
      "250/250 [==============================] - 2s 7ms/step - loss: 0.3530 - accuracy: 0.8520\n",
      "Epoch 19/100\n",
      "250/250 [==============================] - 2s 7ms/step - loss: 0.3516 - accuracy: 0.8526\n",
      "Epoch 20/100\n",
      "250/250 [==============================] - 2s 7ms/step - loss: 0.3515 - accuracy: 0.8531\n",
      "Epoch 21/100\n",
      "250/250 [==============================] - 2s 7ms/step - loss: 0.3506 - accuracy: 0.8543\n",
      "Epoch 22/100\n",
      "250/250 [==============================] - 2s 7ms/step - loss: 0.3495 - accuracy: 0.8550\n",
      "Epoch 23/100\n",
      "250/250 [==============================] - 2s 8ms/step - loss: 0.3489 - accuracy: 0.8556\n",
      "Epoch 24/100\n",
      "250/250 [==============================] - 2s 6ms/step - loss: 0.3487 - accuracy: 0.8571\n",
      "Epoch 25/100\n",
      "250/250 [==============================] - 2s 6ms/step - loss: 0.3478 - accuracy: 0.8566\n",
      "Epoch 26/100\n",
      "250/250 [==============================] - 2s 7ms/step - loss: 0.3471 - accuracy: 0.8575\n",
      "Epoch 27/100\n",
      "250/250 [==============================] - 2s 7ms/step - loss: 0.3470 - accuracy: 0.8580\n",
      "Epoch 28/100\n",
      "250/250 [==============================] - 2s 7ms/step - loss: 0.3460 - accuracy: 0.8597\n",
      "Epoch 29/100\n",
      "250/250 [==============================] - 2s 7ms/step - loss: 0.3457 - accuracy: 0.8586\n",
      "Epoch 30/100\n",
      "250/250 [==============================] - 2s 7ms/step - loss: 0.3444 - accuracy: 0.8601\n",
      "Epoch 31/100\n",
      "250/250 [==============================] - 2s 8ms/step - loss: 0.3442 - accuracy: 0.8596\n",
      "Epoch 32/100\n",
      "250/250 [==============================] - 2s 8ms/step - loss: 0.3439 - accuracy: 0.8615\n",
      "Epoch 33/100\n",
      "250/250 [==============================] - 2s 7ms/step - loss: 0.3430 - accuracy: 0.8583\n",
      "Epoch 34/100\n",
      "250/250 [==============================] - 2s 8ms/step - loss: 0.3430 - accuracy: 0.8612\n",
      "Epoch 35/100\n",
      "250/250 [==============================] - 2s 8ms/step - loss: 0.3429 - accuracy: 0.8583\n",
      "Epoch 36/100\n",
      "250/250 [==============================] - 2s 8ms/step - loss: 0.3422 - accuracy: 0.8597\n",
      "Epoch 37/100\n",
      "250/250 [==============================] - 2s 8ms/step - loss: 0.3416 - accuracy: 0.8593\n",
      "Epoch 38/100\n",
      "250/250 [==============================] - 2s 8ms/step - loss: 0.3415 - accuracy: 0.8606\n",
      "Epoch 39/100\n",
      "250/250 [==============================] - 2s 8ms/step - loss: 0.3407 - accuracy: 0.8612\n",
      "Epoch 40/100\n",
      "250/250 [==============================] - 2s 9ms/step - loss: 0.3409 - accuracy: 0.8615\n",
      "Epoch 41/100\n",
      "250/250 [==============================] - 2s 8ms/step - loss: 0.3407 - accuracy: 0.8596\n",
      "Epoch 42/100\n",
      "250/250 [==============================] - 2s 8ms/step - loss: 0.3403 - accuracy: 0.8627\n",
      "Epoch 43/100\n",
      "250/250 [==============================] - 2s 8ms/step - loss: 0.3401 - accuracy: 0.8605\n",
      "Epoch 44/100\n",
      "250/250 [==============================] - 2s 9ms/step - loss: 0.3401 - accuracy: 0.8622\n",
      "Epoch 45/100\n",
      "250/250 [==============================] - 2s 8ms/step - loss: 0.3402 - accuracy: 0.8594\n",
      "Epoch 46/100\n",
      "250/250 [==============================] - 2s 8ms/step - loss: 0.3403 - accuracy: 0.8597\n",
      "Epoch 47/100\n",
      "250/250 [==============================] - 2s 7ms/step - loss: 0.3390 - accuracy: 0.8609\n",
      "Epoch 48/100\n",
      "250/250 [==============================] - 2s 7ms/step - loss: 0.3395 - accuracy: 0.8600\n",
      "Epoch 49/100\n",
      "250/250 [==============================] - 2s 7ms/step - loss: 0.3391 - accuracy: 0.8595\n",
      "Epoch 50/100\n",
      "250/250 [==============================] - 2s 7ms/step - loss: 0.3393 - accuracy: 0.8599\n",
      "Epoch 51/100\n",
      "250/250 [==============================] - 2s 8ms/step - loss: 0.3390 - accuracy: 0.8600\n",
      "Epoch 52/100\n",
      "250/250 [==============================] - 2s 7ms/step - loss: 0.3385 - accuracy: 0.8616\n",
      "Epoch 53/100\n",
      "250/250 [==============================] - 2s 7ms/step - loss: 0.3390 - accuracy: 0.8615\n",
      "Epoch 54/100\n",
      "250/250 [==============================] - 2s 8ms/step - loss: 0.3388 - accuracy: 0.8600\n",
      "Epoch 55/100\n",
      "250/250 [==============================] - 2s 7ms/step - loss: 0.3387 - accuracy: 0.8593\n",
      "Epoch 56/100\n",
      "250/250 [==============================] - 2s 7ms/step - loss: 0.3379 - accuracy: 0.8616\n",
      "Epoch 57/100\n",
      "250/250 [==============================] - 2s 7ms/step - loss: 0.3382 - accuracy: 0.8627\n",
      "Epoch 58/100\n",
      "250/250 [==============================] - 2s 7ms/step - loss: 0.3378 - accuracy: 0.8619\n",
      "Epoch 59/100\n",
      "250/250 [==============================] - 2s 6ms/step - loss: 0.3380 - accuracy: 0.8618\n",
      "Epoch 60/100\n",
      "250/250 [==============================] - 1s 6ms/step - loss: 0.3376 - accuracy: 0.8627\n",
      "Epoch 61/100\n",
      "250/250 [==============================] - 2s 6ms/step - loss: 0.3385 - accuracy: 0.8605\n",
      "Epoch 62/100\n",
      "250/250 [==============================] - 2s 7ms/step - loss: 0.3376 - accuracy: 0.8625\n",
      "Epoch 63/100\n",
      "250/250 [==============================] - 2s 7ms/step - loss: 0.3384 - accuracy: 0.8620\n",
      "Epoch 64/100\n",
      "250/250 [==============================] - 2s 7ms/step - loss: 0.3377 - accuracy: 0.8624\n",
      "Epoch 65/100\n",
      "250/250 [==============================] - 2s 7ms/step - loss: 0.3377 - accuracy: 0.8636\n",
      "Epoch 66/100\n",
      "250/250 [==============================] - 2s 7ms/step - loss: 0.3375 - accuracy: 0.8625\n",
      "Epoch 67/100\n",
      "250/250 [==============================] - 2s 7ms/step - loss: 0.3375 - accuracy: 0.8610\n",
      "Epoch 68/100\n",
      "250/250 [==============================] - 2s 7ms/step - loss: 0.3374 - accuracy: 0.8635\n",
      "Epoch 69/100\n",
      "250/250 [==============================] - 2s 7ms/step - loss: 0.3371 - accuracy: 0.8640\n",
      "Epoch 70/100\n",
      "250/250 [==============================] - 2s 7ms/step - loss: 0.3368 - accuracy: 0.8644\n",
      "Epoch 71/100\n",
      "250/250 [==============================] - 2s 7ms/step - loss: 0.3375 - accuracy: 0.8639\n",
      "Epoch 72/100\n",
      "250/250 [==============================] - 2s 7ms/step - loss: 0.3369 - accuracy: 0.8626\n",
      "Epoch 73/100\n",
      "250/250 [==============================] - 2s 7ms/step - loss: 0.3372 - accuracy: 0.8639\n",
      "Epoch 74/100\n",
      "250/250 [==============================] - 2s 6ms/step - loss: 0.3368 - accuracy: 0.8643\n",
      "Epoch 75/100\n",
      "250/250 [==============================] - 2s 7ms/step - loss: 0.3372 - accuracy: 0.8618\n",
      "Epoch 76/100\n",
      "250/250 [==============================] - 2s 8ms/step - loss: 0.3365 - accuracy: 0.8618\n",
      "Epoch 77/100\n",
      "250/250 [==============================] - 2s 7ms/step - loss: 0.3367 - accuracy: 0.8631\n",
      "Epoch 78/100\n",
      "250/250 [==============================] - 2s 7ms/step - loss: 0.3360 - accuracy: 0.8636\n",
      "Epoch 79/100\n",
      "250/250 [==============================] - 2s 7ms/step - loss: 0.3367 - accuracy: 0.8622\n",
      "Epoch 80/100\n",
      "250/250 [==============================] - 2s 7ms/step - loss: 0.3366 - accuracy: 0.8630\n",
      "Epoch 81/100\n"
     ]
    },
    {
     "name": "stdout",
     "output_type": "stream",
     "text": [
      "250/250 [==============================] - 2s 6ms/step - loss: 0.3362 - accuracy: 0.8644\n",
      "Epoch 82/100\n",
      "250/250 [==============================] - 2s 6ms/step - loss: 0.3363 - accuracy: 0.8633\n",
      "Epoch 83/100\n",
      "250/250 [==============================] - 2s 6ms/step - loss: 0.3358 - accuracy: 0.8631\n",
      "Epoch 84/100\n",
      "250/250 [==============================] - 2s 6ms/step - loss: 0.3369 - accuracy: 0.8633\n",
      "Epoch 85/100\n",
      "250/250 [==============================] - 2s 7ms/step - loss: 0.3359 - accuracy: 0.8656\n",
      "Epoch 86/100\n",
      "250/250 [==============================] - 2s 7ms/step - loss: 0.3361 - accuracy: 0.8624\n",
      "Epoch 87/100\n",
      "250/250 [==============================] - 2s 7ms/step - loss: 0.3363 - accuracy: 0.8646\n",
      "Epoch 88/100\n",
      "250/250 [==============================] - 2s 7ms/step - loss: 0.3355 - accuracy: 0.8656\n",
      "Epoch 89/100\n",
      "250/250 [==============================] - 2s 7ms/step - loss: 0.3361 - accuracy: 0.8625\n",
      "Epoch 90/100\n",
      "250/250 [==============================] - 2s 7ms/step - loss: 0.3359 - accuracy: 0.8621\n",
      "Epoch 91/100\n",
      "250/250 [==============================] - 2s 7ms/step - loss: 0.3351 - accuracy: 0.8641\n",
      "Epoch 92/100\n",
      "250/250 [==============================] - 2s 7ms/step - loss: 0.3355 - accuracy: 0.8641\n",
      "Epoch 93/100\n",
      "250/250 [==============================] - 2s 7ms/step - loss: 0.3353 - accuracy: 0.8620\n",
      "Epoch 94/100\n",
      "250/250 [==============================] - 2s 7ms/step - loss: 0.3356 - accuracy: 0.8654\n",
      "Epoch 95/100\n",
      "250/250 [==============================] - 2s 7ms/step - loss: 0.3354 - accuracy: 0.8640\n",
      "Epoch 96/100\n",
      "250/250 [==============================] - 2s 8ms/step - loss: 0.3345 - accuracy: 0.8635\n",
      "Epoch 97/100\n",
      "250/250 [==============================] - 2s 8ms/step - loss: 0.3355 - accuracy: 0.8648\n",
      "Epoch 98/100\n",
      "250/250 [==============================] - 2s 7ms/step - loss: 0.3347 - accuracy: 0.8640\n",
      "Epoch 99/100\n",
      "250/250 [==============================] - 2s 7ms/step - loss: 0.3350 - accuracy: 0.8655\n",
      "Epoch 100/100\n",
      "250/250 [==============================] - 2s 7ms/step - loss: 0.3349 - accuracy: 0.8635\n"
     ]
    },
    {
     "data": {
      "text/plain": [
       "<keras.callbacks.History at 0x26bac98edf0>"
      ]
     },
     "execution_count": 23,
     "metadata": {},
     "output_type": "execute_result"
    }
   ],
   "source": [
    "ann.fit(X_train, y_train, batch_size = 32, epochs = 100) "
   ]
  },
  {
   "cell_type": "markdown",
   "id": "54b008bd",
   "metadata": {},
   "source": [
    "## Part 4 - Making the predictions and evaluating the model"
   ]
  },
  {
   "cell_type": "markdown",
   "id": "ec5632c9",
   "metadata": {},
   "source": [
    "### Predicting the result of a single observation"
   ]
  },
  {
   "cell_type": "markdown",
   "id": "02a7d3c8",
   "metadata": {},
   "source": [
    "**Solution**"
   ]
  },
  {
   "cell_type": "code",
   "execution_count": 25,
   "id": "54af99bb",
   "metadata": {},
   "outputs": [
    {
     "name": "stdout",
     "output_type": "stream",
     "text": [
      "[[False]]\n"
     ]
    }
   ],
   "source": [
    "print(ann.predict(sc.transform([[1, 0, 0, 600, 1, 40, 3, 60000, 2, 1, 1, 50000]])) > 0.5) #predicting desired train data\n",
    "#False means value is close to zero--->means customer eill stay according to target dataset"
   ]
  },
  {
   "cell_type": "markdown",
   "id": "e50e6a1f",
   "metadata": {},
   "source": [
    "Therefore, our ANN model predicts that this customer stays in the bank!\n",
    "\n",
    "**Important note 1:** Notice that the values of the features were all input in a double pair of square brackets. That's because the \"predict\" method always expects a 2D array as the format of its inputs. And putting our values into a double pair of square brackets makes the input exactly a 2D array.\n",
    "\n",
    "**Important note 2:** Notice also that the \"France\" country was not input as a string in the last column but as \"1, 0, 0\" in the first three columns. That's because of course the predict method expects the one-hot-encoded values of the state, and as we see in the first row of the matrix of features X, \"France\" was encoded as \"1, 0, 0\". And be careful to include these values in the first three columns, because the dummy variables are always created in the first columns."
   ]
  },
  {
   "cell_type": "markdown",
   "id": "e7942131",
   "metadata": {},
   "source": [
    "### Predicting the Test set results"
   ]
  },
  {
   "cell_type": "code",
   "execution_count": 26,
   "id": "d622619c",
   "metadata": {},
   "outputs": [
    {
     "name": "stdout",
     "output_type": "stream",
     "text": [
      "[[0 0]\n",
      " [0 1]\n",
      " [0 0]\n",
      " ...\n",
      " [0 0]\n",
      " [0 0]\n",
      " [0 0]]\n"
     ]
    }
   ],
   "source": [
    "y_pred = ann.predict(X_test)\n",
    "y_pred = (y_pred > 0.5)\n",
    "print(np.concatenate((y_pred.reshape(len(y_pred),1), y_test.reshape(len(y_test),1)),1))\n",
    "#Comparing between predicting result(0 column) vs real result(1 column)"
   ]
  },
  {
   "cell_type": "markdown",
   "id": "25970798",
   "metadata": {},
   "source": [
    "### Making the Confusion Matrix"
   ]
  },
  {
   "cell_type": "code",
   "execution_count": 27,
   "id": "a5557157",
   "metadata": {},
   "outputs": [
    {
     "name": "stdout",
     "output_type": "stream",
     "text": [
      "[[1526   69]\n",
      " [ 205  200]]\n"
     ]
    },
    {
     "data": {
      "text/plain": [
       "0.863"
      ]
     },
     "execution_count": 27,
     "metadata": {},
     "output_type": "execute_result"
    }
   ],
   "source": [
    "from sklearn.metrics import confusion_matrix, accuracy_score\n",
    "cm = confusion_matrix(y_test, y_pred)\n",
    "print(cm)\n",
    "accuracy_score(y_test, y_pred)\n",
    "#Confusion matrix--->Finding accuracy\n",
    "#1516 correct prediction-Customer stays in the bank,205 leaves from the bank & 79 inaccurate prediction-Customer leaves from the bank,200 -Customer stays in the bank"
   ]
  },
  {
   "cell_type": "code",
   "execution_count": null,
   "id": "e65ba4be",
   "metadata": {},
   "outputs": [],
   "source": []
  }
 ],
 "metadata": {
  "kernelspec": {
   "display_name": "cvpr tf2.7 py3.9",
   "language": "python",
   "name": "cvpr"
  },
  "language_info": {
   "codemirror_mode": {
    "name": "ipython",
    "version": 3
   },
   "file_extension": ".py",
   "mimetype": "text/x-python",
   "name": "python",
   "nbconvert_exporter": "python",
   "pygments_lexer": "ipython3",
   "version": "3.9.7"
  }
 },
 "nbformat": 4,
 "nbformat_minor": 5
}
