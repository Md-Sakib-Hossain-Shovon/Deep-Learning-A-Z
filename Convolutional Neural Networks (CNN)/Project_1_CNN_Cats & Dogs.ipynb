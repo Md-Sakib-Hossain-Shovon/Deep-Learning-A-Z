{
 "cells": [
  {
   "cell_type": "markdown",
   "id": "c908a607",
   "metadata": {},
   "source": [
    "# Convolutional Neural Network \n",
    "Esc+M\n",
    "Shift+Enter"
   ]
  },
  {
   "cell_type": "code",
   "execution_count": 1,
   "id": "d2218f13",
   "metadata": {},
   "outputs": [],
   "source": [
    "import tensorflow as tf\n",
    "from keras.preprocessing.image import ImageDataGenerator"
   ]
  },
  {
   "cell_type": "code",
   "execution_count": 2,
   "id": "5a415e89",
   "metadata": {},
   "outputs": [
    {
     "data": {
      "text/plain": [
       "'2.8.0'"
      ]
     },
     "execution_count": 2,
     "metadata": {},
     "output_type": "execute_result"
    }
   ],
   "source": [
    "tf.__version__"
   ]
  },
  {
   "cell_type": "markdown",
   "id": "567c365a",
   "metadata": {},
   "source": [
    "## Part 1 - Data Preprocessing"
   ]
  },
  {
   "cell_type": "markdown",
   "id": "e9516df4",
   "metadata": {},
   "source": [
    "### Preprocessing the Training set"
   ]
  },
  {
   "cell_type": "code",
   "execution_count": 3,
   "id": "d1b74e0f",
   "metadata": {},
   "outputs": [
    {
     "name": "stdout",
     "output_type": "stream",
     "text": [
      "Found 8000 images belonging to 2 classes.\n"
     ]
    }
   ],
   "source": [
    "train_datagen = ImageDataGenerator(rescale = 1./255, #ImageDataGenerator-->Class;tool that apply all transformation images of train set\n",
    "                                   shear_range = 0.2, #rescale-->feature scaling,output value will be between 0-1\n",
    "                                   zoom_range = 0.2,\n",
    "                                   horizontal_flip = True)\n",
    "training_set = train_datagen.flow_from_directory('dataset/training_set', #dataset/training_set->path of the folder dataset\n",
    "                                                 target_size = (64, 64), #Will be fed\n",
    "                                                 batch_size = 32,\n",
    "                                                 class_mode = 'binary') #class_mode-->as the output type binary\n",
    "#Image augmentation has been done here->If we didn't do here after training training set accuracy would be high,overfitted and test set accuracy would be low."
   ]
  },
  {
   "cell_type": "markdown",
   "id": "831ef2fa",
   "metadata": {},
   "source": [
    "### Preprocessing the Test set"
   ]
  },
  {
   "cell_type": "code",
   "execution_count": 4,
   "id": "396e2483",
   "metadata": {},
   "outputs": [
    {
     "name": "stdout",
     "output_type": "stream",
     "text": [
      "Found 2000 images belonging to 2 classes.\n"
     ]
    }
   ],
   "source": [
    "test_datagen = ImageDataGenerator(rescale = 1./255)\n",
    "test_set = test_datagen.flow_from_directory('dataset/test_set',\n",
    "                                            target_size = (64, 64), #have to be same as training set\n",
    "                                            batch_size = 32,\n",
    "                                            class_mode = 'binary')"
   ]
  },
  {
   "cell_type": "markdown",
   "id": "710f2a68",
   "metadata": {},
   "source": [
    "## Part 2 - Building the CNN"
   ]
  },
  {
   "cell_type": "markdown",
   "id": "b98eeef1",
   "metadata": {},
   "source": [
    "### Initialising the CNN"
   ]
  },
  {
   "cell_type": "code",
   "execution_count": 5,
   "id": "3700b8ae",
   "metadata": {},
   "outputs": [],
   "source": [
    "cnn = tf.keras.models.Sequential() #will allow to create ANN as a sequence of layers.Keras->Library,Models->module"
   ]
  },
  {
   "cell_type": "markdown",
   "id": "30eaa1db",
   "metadata": {},
   "source": [
    "### Step 1 - Convolution"
   ]
  },
  {
   "cell_type": "code",
   "execution_count": 6,
   "id": "fbe6489d",
   "metadata": {},
   "outputs": [],
   "source": [
    "cnn.add(tf.keras.layers.Conv2D(filters=32, kernel_size=3, activation='relu', input_shape=[64, 64, 3])) #layers->module,Conv2D->Class\n",
    "#input_shape-->input dataset dimension"
   ]
  },
  {
   "cell_type": "markdown",
   "id": "46b25a4e",
   "metadata": {},
   "source": [
    "### Step 2 - Pooling"
   ]
  },
  {
   "cell_type": "code",
   "execution_count": 7,
   "id": "6c330412",
   "metadata": {},
   "outputs": [],
   "source": [
    "cnn.add(tf.keras.layers.MaxPool2D(pool_size=2, strides=2)) \n",
    "#pool_size-->the size of specific frame from feature map to creat pooled featured map\n",
    "#strides-->sliding/shifting size\n"
   ]
  },
  {
   "cell_type": "markdown",
   "id": "bcf210f7",
   "metadata": {},
   "source": [
    "### Adding a second convolutional layer"
   ]
  },
  {
   "cell_type": "code",
   "execution_count": 8,
   "id": "121939fe",
   "metadata": {},
   "outputs": [],
   "source": [
    "cnn.add(tf.keras.layers.Conv2D(filters=32, kernel_size=3, activation='relu')) #kernal_size-->feature detector dimension\n",
    "cnn.add(tf.keras.layers.MaxPool2D(pool_size=2, strides=2))"
   ]
  },
  {
   "cell_type": "markdown",
   "id": "cc772396",
   "metadata": {},
   "source": [
    "### Step 3 - Flattening"
   ]
  },
  {
   "cell_type": "code",
   "execution_count": 9,
   "id": "5a8d0ee0",
   "metadata": {},
   "outputs": [],
   "source": [
    "cnn.add(tf.keras.layers.Flatten()) #flatting to one dim vector"
   ]
  },
  {
   "cell_type": "markdown",
   "id": "cbc78e89",
   "metadata": {},
   "source": [
    "### Step 4 - Full Connection"
   ]
  },
  {
   "cell_type": "code",
   "execution_count": 10,
   "id": "07b58e94",
   "metadata": {},
   "outputs": [],
   "source": [
    "cnn.add(tf.keras.layers.Dense(units=128, activation='relu')) #Dense-->Class;units-->number of hidden neurons"
   ]
  },
  {
   "cell_type": "markdown",
   "id": "ee5f1a2e",
   "metadata": {},
   "source": [
    "### Step 5 - Output Layer"
   ]
  },
  {
   "cell_type": "code",
   "execution_count": 11,
   "id": "3762699e",
   "metadata": {},
   "outputs": [],
   "source": [
    "cnn.add(tf.keras.layers.Dense(units=1, activation='sigmoid')) #unit=1-->One output;sigmoid-->recommend for binary classsification\n",
    "#softmax-->multiclass classification"
   ]
  },
  {
   "cell_type": "markdown",
   "id": "c5bbfb4e",
   "metadata": {},
   "source": [
    "## Part 3 - Training the CNN"
   ]
  },
  {
   "cell_type": "markdown",
   "id": "1decf6aa",
   "metadata": {},
   "source": [
    "### Compiling the CNN"
   ]
  },
  {
   "cell_type": "code",
   "execution_count": 12,
   "id": "9a75a9e0",
   "metadata": {},
   "outputs": [],
   "source": [
    "cnn.compile(optimizer = 'adam', loss = 'binary_crossentropy', metrics = ['accuracy'])\n",
    "#accuracy-->relevant way to measure the performance of classification method"
   ]
  },
  {
   "cell_type": "markdown",
   "id": "2a042d7d",
   "metadata": {},
   "source": [
    "### Training the CNN on the Training set and evaluating it on the Test set"
   ]
  },
  {
   "cell_type": "code",
   "execution_count": 13,
   "id": "387fcaae",
   "metadata": {},
   "outputs": [
    {
     "name": "stdout",
     "output_type": "stream",
     "text": [
      "Epoch 1/25\n",
      "250/250 [==============================] - 46s 131ms/step - loss: 0.6675 - accuracy: 0.5928 - val_loss: 0.6336 - val_accuracy: 0.6345\n",
      "Epoch 2/25\n",
      "250/250 [==============================] - 20s 81ms/step - loss: 0.6232 - accuracy: 0.6589 - val_loss: 0.5854 - val_accuracy: 0.7080\n",
      "Epoch 3/25\n",
      "250/250 [==============================] - 20s 80ms/step - loss: 0.5903 - accuracy: 0.6836 - val_loss: 0.5450 - val_accuracy: 0.7315\n",
      "Epoch 4/25\n",
      "250/250 [==============================] - 21s 83ms/step - loss: 0.5521 - accuracy: 0.7159 - val_loss: 0.5409 - val_accuracy: 0.7360\n",
      "Epoch 5/25\n",
      "250/250 [==============================] - 26s 102ms/step - loss: 0.5221 - accuracy: 0.7390 - val_loss: 0.5236 - val_accuracy: 0.7430\n",
      "Epoch 6/25\n",
      "250/250 [==============================] - 20s 81ms/step - loss: 0.5025 - accuracy: 0.7491 - val_loss: 0.5140 - val_accuracy: 0.7590\n",
      "Epoch 7/25\n",
      "250/250 [==============================] - 25s 101ms/step - loss: 0.4824 - accuracy: 0.7678 - val_loss: 0.4844 - val_accuracy: 0.7775\n",
      "Epoch 8/25\n",
      "250/250 [==============================] - 25s 101ms/step - loss: 0.4688 - accuracy: 0.7778 - val_loss: 0.4809 - val_accuracy: 0.7780\n",
      "Epoch 9/25\n",
      "250/250 [==============================] - 26s 103ms/step - loss: 0.4532 - accuracy: 0.7874 - val_loss: 0.4745 - val_accuracy: 0.7815\n",
      "Epoch 10/25\n",
      "250/250 [==============================] - 26s 104ms/step - loss: 0.4454 - accuracy: 0.7929 - val_loss: 0.4787 - val_accuracy: 0.7880\n",
      "Epoch 11/25\n",
      "250/250 [==============================] - 25s 101ms/step - loss: 0.4344 - accuracy: 0.7920 - val_loss: 0.4612 - val_accuracy: 0.7875\n",
      "Epoch 12/25\n",
      "250/250 [==============================] - 26s 102ms/step - loss: 0.4186 - accuracy: 0.8044 - val_loss: 0.4585 - val_accuracy: 0.7990\n",
      "Epoch 13/25\n",
      "250/250 [==============================] - 25s 100ms/step - loss: 0.4110 - accuracy: 0.8074 - val_loss: 0.4787 - val_accuracy: 0.7795\n",
      "Epoch 14/25\n",
      "250/250 [==============================] - 26s 105ms/step - loss: 0.4022 - accuracy: 0.8149 - val_loss: 0.4569 - val_accuracy: 0.7950\n",
      "Epoch 15/25\n",
      "250/250 [==============================] - 25s 101ms/step - loss: 0.3864 - accuracy: 0.8205 - val_loss: 0.4611 - val_accuracy: 0.7925\n",
      "Epoch 16/25\n",
      "250/250 [==============================] - 25s 102ms/step - loss: 0.3876 - accuracy: 0.8242 - val_loss: 0.5305 - val_accuracy: 0.7645\n",
      "Epoch 17/25\n",
      "250/250 [==============================] - 27s 108ms/step - loss: 0.3724 - accuracy: 0.8311 - val_loss: 0.4633 - val_accuracy: 0.7905\n",
      "Epoch 18/25\n",
      "250/250 [==============================] - 30s 120ms/step - loss: 0.3527 - accuracy: 0.8434 - val_loss: 0.4693 - val_accuracy: 0.7890\n",
      "Epoch 19/25\n",
      "250/250 [==============================] - 26s 104ms/step - loss: 0.3395 - accuracy: 0.8465 - val_loss: 0.4918 - val_accuracy: 0.7960\n",
      "Epoch 20/25\n",
      "250/250 [==============================] - 26s 105ms/step - loss: 0.3320 - accuracy: 0.8535 - val_loss: 0.4757 - val_accuracy: 0.7975\n",
      "Epoch 21/25\n",
      "250/250 [==============================] - 26s 105ms/step - loss: 0.3210 - accuracy: 0.8577 - val_loss: 0.4722 - val_accuracy: 0.8150\n",
      "Epoch 22/25\n",
      "250/250 [==============================] - 27s 107ms/step - loss: 0.3094 - accuracy: 0.8662 - val_loss: 0.4959 - val_accuracy: 0.7925\n",
      "Epoch 23/25\n",
      "250/250 [==============================] - 26s 103ms/step - loss: 0.2988 - accuracy: 0.8676 - val_loss: 0.4629 - val_accuracy: 0.8070\n",
      "Epoch 24/25\n",
      "250/250 [==============================] - 27s 108ms/step - loss: 0.2866 - accuracy: 0.8777 - val_loss: 0.5562 - val_accuracy: 0.7740\n",
      "Epoch 25/25\n",
      "250/250 [==============================] - 28s 112ms/step - loss: 0.2746 - accuracy: 0.8841 - val_loss: 0.5182 - val_accuracy: 0.8025\n"
     ]
    }
   ],
   "source": [
    "h=cnn.fit(x = training_set, validation_data = test_set, epochs = 25) #fit()-->method;train cnn on trainning set\n",
    "#validation_data-->to evaluate test set\n",
    "#batch_size(32) * 250=8000 total train image;250->steps in each epoch;first accuracy->training set,second accuracy->test set"
   ]
  },
  {
   "cell_type": "markdown",
   "id": "463a23e5",
   "metadata": {},
   "source": [
    "## Part 4 - Making a single prediction"
   ]
  },
  {
   "cell_type": "code",
   "execution_count": 14,
   "id": "ccb11312",
   "metadata": {},
   "outputs": [],
   "source": [
    "import numpy as np\n",
    "from keras.preprocessing import image #image-->submodule \n",
    "test_image = image.load_img('dataset/single_prediction/cat_or_dog_1.jpg', target_size = (64, 64)) #load_img-->specific function of image submodule\n",
    "test_image = image.img_to_array(test_image) #img_to_array-->converting test image(pil formate) to numpy array\n",
    "test_image = np.expand_dims(test_image, axis = 0) #expand_dims()-->to add extra dim corresponding to batch\n",
    "result = cnn.predict(test_image)                  #axix=0-->dim of batch whice are adding image will be the first dimension\n",
    "training_set.class_indices\n",
    "if result[0][0] == 1: #batch index zero,only one element(test image) that also index zero\n",
    "  prediction = 'dog'\n",
    "else:\n",
    "  prediction = 'cat'"
   ]
  },
  {
   "cell_type": "code",
   "execution_count": 15,
   "id": "bc0dfe1c",
   "metadata": {},
   "outputs": [
    {
     "name": "stdout",
     "output_type": "stream",
     "text": [
      "dog\n"
     ]
    }
   ],
   "source": [
    "print(prediction)"
   ]
  },
  {
   "cell_type": "code",
   "execution_count": 16,
   "id": "cc2853b1",
   "metadata": {},
   "outputs": [
    {
     "data": {
      "image/png": "[encoded data removed]",
      "text/plain": [
       "<Figure size 1080x360 with 2 Axes>"
      ]
     },
     "metadata": {
      "needs_background": "light"
     },
     "output_type": "display_data"
    }
   ],
   "source": [
    "import matplotlib.pyplot as plt\n",
    "%matplotlib inline\n",
    "plt.figure(figsize=(15,5))\n",
    "plt.subplot(1,2,1)\n",
    "plt.plot(h.history['accuracy'], 'o-', label='train accuracy')\n",
    "plt.plot(h.history['val_accuracy'], 'o-', label = 'validation accuracy')\n",
    "plt.xlabel('Epoch')\n",
    "plt.ylabel('Accuracy')\n",
    "plt.grid(True)\n",
    "plt.legend(loc='lower right')\n",
    "\n",
    "plt.subplot(1,2,2)\n",
    "plt.plot(h.history['loss'], 'o-', label='train loss')\n",
    "plt.plot(h.history['val_loss'], 'o-', label='validation loss')\n",
    "plt.xlabel('Epoch')\n",
    "plt.ylabel('Loss')\n",
    "plt.grid(True)\n",
    "plt.legend(loc='upper right')\n",
    "\n",
    "plt.show()"
   ]
  },
  {
   "cell_type": "code",
   "execution_count": null,
   "id": "b94c403c",
   "metadata": {},
   "outputs": [],
   "source": []
  }
 ],
 "metadata": {
  "kernelspec": {
   "display_name": "Python 3 (ipykernel)",
   "language": "python",
   "name": "python3"
  },
  "language_info": {
   "codemirror_mode": {
    "name": "ipython",
    "version": 3
   },
   "file_extension": ".py",
   "mimetype": "text/x-python",
   "name": "python",
   "nbconvert_exporter": "python",
   "pygments_lexer": "ipython3",
   "version": "3.9.7"
  }
 },
 "nbformat": 4,
 "nbformat_minor": 5
}
