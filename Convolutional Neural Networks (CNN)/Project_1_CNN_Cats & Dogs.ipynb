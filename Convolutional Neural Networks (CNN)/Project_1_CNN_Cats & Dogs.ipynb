{
 "cells": [
  {
   "cell_type": "markdown",
   "id": "c908a607",
   "metadata": {},
   "source": [
    "# Convolutional Neural Network \n",
    "Esc+M\n",
    "Shift+Enter"
   ]
  },
  {
   "cell_type": "code",
   "execution_count": 1,
   "id": "d2218f13",
   "metadata": {},
   "outputs": [],
   "source": [
    "import tensorflow as tf\n",
    "from keras.preprocessing.image import ImageDataGenerator"
   ]
  },
  {
   "cell_type": "code",
   "execution_count": 2,
   "id": "5a415e89",
   "metadata": {},
   "outputs": [
    {
     "data": {
      "text/plain": [
       "'2.8.0'"
      ]
     },
     "execution_count": 2,
     "metadata": {},
     "output_type": "execute_result"
    }
   ],
   "source": [
    "tf.__version__"
   ]
  },
  {
   "cell_type": "markdown",
   "id": "567c365a",
   "metadata": {},
   "source": [
    "## Part 1 - Data Preprocessing"
   ]
  },
  {
   "cell_type": "markdown",
   "id": "e9516df4",
   "metadata": {},
   "source": [
    "### Preprocessing the Training set"
   ]
  },
  {
   "cell_type": "code",
   "execution_count": 3,
   "id": "d1b74e0f",
   "metadata": {},
   "outputs": [
    {
     "name": "stdout",
     "output_type": "stream",
     "text": [
      "Found 8000 images belonging to 2 classes.\n"
     ]
    }
   ],
   "source": [
    "train_datagen = ImageDataGenerator(rescale = 1./255, #ImageDataGenerator-->Class;tool that apply all transformation images of train set\n",
    "                                   shear_range = 0.2, #rescale-->feature scaling,output value will be between 0-255\n",
    "                                   zoom_range = 0.2,\n",
    "                                   horizontal_flip = True)\n",
    "training_set = train_datagen.flow_from_directory('dataset/training_set', #dataset/training_set->path of the folder dataset\n",
    "                                                 target_size = (64, 64), #Will be fed\n",
    "                                                 batch_size = 32,\n",
    "                                                 class_mode = 'binary') #class_mode-->as the output type binary\n",
    "#Image augmentation has been done here->If we didn't do here after training training set accuracy would be high,overfitted and test set accuracy would be low."
   ]
  },
  {
   "cell_type": "markdown",
   "id": "831ef2fa",
   "metadata": {},
   "source": [
    "### Preprocessing the Test set"
   ]
  },
  {
   "cell_type": "code",
   "execution_count": 4,
   "id": "396e2483",
   "metadata": {},
   "outputs": [
    {
     "name": "stdout",
     "output_type": "stream",
     "text": [
      "Found 2000 images belonging to 2 classes.\n"
     ]
    }
   ],
   "source": [
    "test_datagen = ImageDataGenerator(rescale = 1./255)\n",
    "test_set = test_datagen.flow_from_directory('dataset/test_set',\n",
    "                                            target_size = (64, 64), #have to be same as training set\n",
    "                                            batch_size = 32,\n",
    "                                            class_mode = 'binary')"
   ]
  },
  {
   "cell_type": "markdown",
   "id": "710f2a68",
   "metadata": {},
   "source": [
    "## Part 2 - Building the CNN"
   ]
  },
  {
   "cell_type": "markdown",
   "id": "b98eeef1",
   "metadata": {},
   "source": [
    "### Initialising the CNN"
   ]
  },
  {
   "cell_type": "code",
   "execution_count": 5,
   "id": "3700b8ae",
   "metadata": {},
   "outputs": [],
   "source": [
    "cnn = tf.keras.models.Sequential() #will allow to create ANN as a sequence of layers.Keras->Library,Models->module"
   ]
  },
  {
   "cell_type": "markdown",
   "id": "30eaa1db",
   "metadata": {},
   "source": [
    "### Step 1 - Convolution"
   ]
  },
  {
   "cell_type": "code",
   "execution_count": 6,
   "id": "fbe6489d",
   "metadata": {},
   "outputs": [],
   "source": [
    "cnn.add(tf.keras.layers.Conv2D(filters=32, kernel_size=3, activation='relu', input_shape=[64, 64, 3])) #layers->module,Conv2D->Class\n",
    "#input_shape-->input dataset dimension"
   ]
  },
  {
   "cell_type": "markdown",
   "id": "46b25a4e",
   "metadata": {},
   "source": [
    "### Step 2 - Pooling"
   ]
  },
  {
   "cell_type": "code",
   "execution_count": 7,
   "id": "6c330412",
   "metadata": {},
   "outputs": [],
   "source": [
    "cnn.add(tf.keras.layers.MaxPool2D(pool_size=2, strides=2)) \n",
    "#pool_size-->the size of specific frame from feature map to creat pooled featured map\n",
    "#strides-->sliding/shifting size\n"
   ]
  },
  {
   "cell_type": "markdown",
   "id": "bcf210f7",
   "metadata": {},
   "source": [
    "### Adding a second convolutional layer"
   ]
  },
  {
   "cell_type": "code",
   "execution_count": 8,
   "id": "121939fe",
   "metadata": {},
   "outputs": [],
   "source": [
    "cnn.add(tf.keras.layers.Conv2D(filters=32, kernel_size=3, activation='relu')) #kernal_size-->feature detector dimension\n",
    "cnn.add(tf.keras.layers.MaxPool2D(pool_size=2, strides=2))"
   ]
  },
  {
   "cell_type": "markdown",
   "id": "cc772396",
   "metadata": {},
   "source": [
    "### Step 3 - Flattening"
   ]
  },
  {
   "cell_type": "code",
   "execution_count": 9,
   "id": "5a8d0ee0",
   "metadata": {},
   "outputs": [],
   "source": [
    "cnn.add(tf.keras.layers.Flatten()) #flatting to one dim vector"
   ]
  },
  {
   "cell_type": "markdown",
   "id": "cbc78e89",
   "metadata": {},
   "source": [
    "### Step 4 - Full Connection"
   ]
  },
  {
   "cell_type": "code",
   "execution_count": 10,
   "id": "07b58e94",
   "metadata": {},
   "outputs": [],
   "source": [
    "cnn.add(tf.keras.layers.Dense(units=128, activation='relu')) #Dense-->Class;units-->number of hidden neurons"
   ]
  },
  {
   "cell_type": "markdown",
   "id": "ee5f1a2e",
   "metadata": {},
   "source": [
    "### Step 5 - Output Layer"
   ]
  },
  {
   "cell_type": "code",
   "execution_count": 11,
   "id": "3762699e",
   "metadata": {},
   "outputs": [],
   "source": [
    "cnn.add(tf.keras.layers.Dense(units=1, activation='sigmoid')) #unit=1-->One output;sigmoid-->recommend for binary classsification\n",
    "#softmax-->multiclass classification"
   ]
  },
  {
   "cell_type": "markdown",
   "id": "c5bbfb4e",
   "metadata": {},
   "source": [
    "## Part 3 - Training the CNN"
   ]
  },
  {
   "cell_type": "markdown",
   "id": "1decf6aa",
   "metadata": {},
   "source": [
    "### Compiling the CNN"
   ]
  },
  {
   "cell_type": "code",
   "execution_count": 12,
   "id": "9a75a9e0",
   "metadata": {},
   "outputs": [],
   "source": [
    "cnn.compile(optimizer = 'adam', loss = 'binary_crossentropy', metrics = ['accuracy'])\n",
    "#accuracy-->relevant way to measure the performance of classification method"
   ]
  },
  {
   "cell_type": "markdown",
   "id": "2a042d7d",
   "metadata": {},
   "source": [
    "### Training the CNN on the Training set and evaluating it on the Test set"
   ]
  },
  {
   "cell_type": "code",
   "execution_count": 13,
   "id": "387fcaae",
   "metadata": {},
   "outputs": [
    {
     "name": "stdout",
     "output_type": "stream",
     "text": [
      "Epoch 1/25\n",
      "250/250 [==============================] - 108s 429ms/step - loss: 0.6773 - accuracy: 0.5764 - val_loss: 0.6742 - val_accuracy: 0.5660\n",
      "Epoch 2/25\n",
      "250/250 [==============================] - 40s 161ms/step - loss: 0.6382 - accuracy: 0.6361 - val_loss: 0.5855 - val_accuracy: 0.6960\n",
      "Epoch 3/25\n",
      "250/250 [==============================] - 37s 149ms/step - loss: 0.5909 - accuracy: 0.6846 - val_loss: 0.6059 - val_accuracy: 0.6755\n",
      "Epoch 4/25\n",
      "250/250 [==============================] - 37s 146ms/step - loss: 0.5511 - accuracy: 0.7140 - val_loss: 0.5263 - val_accuracy: 0.7380\n",
      "Epoch 5/25\n",
      "250/250 [==============================] - 38s 153ms/step - loss: 0.5218 - accuracy: 0.7402 - val_loss: 0.5280 - val_accuracy: 0.7420\n",
      "Epoch 6/25\n",
      "250/250 [==============================] - 38s 151ms/step - loss: 0.4968 - accuracy: 0.7549 - val_loss: 0.4965 - val_accuracy: 0.7595\n",
      "Epoch 7/25\n",
      "250/250 [==============================] - 38s 153ms/step - loss: 0.4814 - accuracy: 0.7673 - val_loss: 0.4854 - val_accuracy: 0.7730\n",
      "Epoch 8/25\n",
      "250/250 [==============================] - 37s 150ms/step - loss: 0.4653 - accuracy: 0.7749 - val_loss: 0.4739 - val_accuracy: 0.7835\n",
      "Epoch 9/25\n",
      "250/250 [==============================] - 38s 152ms/step - loss: 0.4510 - accuracy: 0.7830 - val_loss: 0.4546 - val_accuracy: 0.7895\n",
      "Epoch 10/25\n",
      "250/250 [==============================] - 36s 144ms/step - loss: 0.4305 - accuracy: 0.7996 - val_loss: 0.4708 - val_accuracy: 0.8010\n",
      "Epoch 11/25\n",
      "250/250 [==============================] - 37s 147ms/step - loss: 0.4185 - accuracy: 0.8075 - val_loss: 0.4525 - val_accuracy: 0.8035\n",
      "Epoch 12/25\n",
      "250/250 [==============================] - 36s 145ms/step - loss: 0.4019 - accuracy: 0.8151 - val_loss: 0.4818 - val_accuracy: 0.7800\n",
      "Epoch 13/25\n",
      "250/250 [==============================] - 35s 138ms/step - loss: 0.3868 - accuracy: 0.8240 - val_loss: 0.4532 - val_accuracy: 0.8070\n",
      "Epoch 14/25\n",
      "250/250 [==============================] - 35s 141ms/step - loss: 0.3818 - accuracy: 0.8278 - val_loss: 0.4790 - val_accuracy: 0.7920\n",
      "Epoch 15/25\n",
      "250/250 [==============================] - 37s 146ms/step - loss: 0.3629 - accuracy: 0.8350 - val_loss: 0.4870 - val_accuracy: 0.7805\n",
      "Epoch 16/25\n",
      "250/250 [==============================] - 35s 140ms/step - loss: 0.3574 - accuracy: 0.8385 - val_loss: 0.5146 - val_accuracy: 0.7825\n",
      "Epoch 17/25\n",
      "250/250 [==============================] - 35s 138ms/step - loss: 0.3449 - accuracy: 0.8476 - val_loss: 0.5012 - val_accuracy: 0.8150\n",
      "Epoch 18/25\n",
      "250/250 [==============================] - 36s 146ms/step - loss: 0.3313 - accuracy: 0.8574 - val_loss: 0.4679 - val_accuracy: 0.7970\n",
      "Epoch 19/25\n",
      "250/250 [==============================] - 36s 145ms/step - loss: 0.3235 - accuracy: 0.8568 - val_loss: 0.4898 - val_accuracy: 0.8015\n",
      "Epoch 20/25\n",
      "250/250 [==============================] - 36s 144ms/step - loss: 0.3112 - accuracy: 0.8610 - val_loss: 0.5189 - val_accuracy: 0.7910\n",
      "Epoch 21/25\n",
      "250/250 [==============================] - 36s 143ms/step - loss: 0.2918 - accuracy: 0.8755 - val_loss: 0.4998 - val_accuracy: 0.8060\n",
      "Epoch 22/25\n",
      "250/250 [==============================] - 37s 149ms/step - loss: 0.2895 - accuracy: 0.8708 - val_loss: 0.4905 - val_accuracy: 0.8040\n",
      "Epoch 23/25\n",
      "250/250 [==============================] - 88s 354ms/step - loss: 0.2782 - accuracy: 0.8814 - val_loss: 0.5112 - val_accuracy: 0.7960\n",
      "Epoch 24/25\n",
      "250/250 [==============================] - 43s 174ms/step - loss: 0.2552 - accuracy: 0.8939 - val_loss: 0.5353 - val_accuracy: 0.7970\n",
      "Epoch 25/25\n",
      "250/250 [==============================] - 37s 148ms/step - loss: 0.2590 - accuracy: 0.8889 - val_loss: 0.5017 - val_accuracy: 0.8035\n"
     ]
    },
    {
     "data": {
      "text/plain": [
       "<keras.callbacks.History at 0x1cfb8171390>"
      ]
     },
     "execution_count": 13,
     "metadata": {},
     "output_type": "execute_result"
    }
   ],
   "source": [
    "cnn.fit(x = training_set, validation_data = test_set, epochs = 25) #fit()-->method;train cnn on trainning set\n",
    "#validation_data-->to evaluate test set\n",
    "#batch_size(32) * 250=8000 total train image;250->steps in each epoch;first accuracy->training set,second accuracy->test set"
   ]
  },
  {
   "cell_type": "markdown",
   "id": "463a23e5",
   "metadata": {},
   "source": [
    "## Part 4 - Making a single prediction"
   ]
  },
  {
   "cell_type": "code",
   "execution_count": 14,
   "id": "ccb11312",
   "metadata": {},
   "outputs": [],
   "source": [
    "import numpy as np\n",
    "from keras.preprocessing import image #image-->submodule \n",
    "test_image = image.load_img('dataset/single_prediction/cat_or_dog_1.jpg', target_size = (64, 64)) #load_img-->specific function of image submodule\n",
    "test_image = image.img_to_array(test_image) #img_to_array-->converting test image(pil formate) to numpy array\n",
    "test_image = np.expand_dims(test_image, axis = 0) #expand_dims()-->to add extra dim corresponding to batch\n",
    "result = cnn.predict(test_image)                  #axix=0-->dim of batch whice are adding image will be the first dimension\n",
    "training_set.class_indices\n",
    "if result[0][0] == 1: #batch index zero,only one element(test image) that also index zero\n",
    "  prediction = 'dog'\n",
    "else:\n",
    "  prediction = 'cat'"
   ]
  },
  {
   "cell_type": "code",
   "execution_count": 15,
   "id": "bc0dfe1c",
   "metadata": {},
   "outputs": [
    {
     "name": "stdout",
     "output_type": "stream",
     "text": [
      "dog\n"
     ]
    }
   ],
   "source": [
    "print(prediction)"
   ]
  }
 ],
 "metadata": {
  "kernelspec": {
   "display_name": "Python 3 (ipykernel)",
   "language": "python",
   "name": "python3"
  },
  "language_info": {
   "codemirror_mode": {
    "name": "ipython",
    "version": 3
   },
   "file_extension": ".py",
   "mimetype": "text/x-python",
   "name": "python",
   "nbconvert_exporter": "python",
   "pygments_lexer": "ipython3",
   "version": "3.10.0"
  }
 },
 "nbformat": 4,
 "nbformat_minor": 5
}
